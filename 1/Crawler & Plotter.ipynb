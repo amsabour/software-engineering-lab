{
 "cells": [
  {
   "cell_type": "markdown",
   "metadata": {},
   "source": [
    "# Crawler"
   ]
  },
  {
   "cell_type": "code",
   "execution_count": 1,
   "metadata": {},
   "outputs": [],
   "source": [
    "import requests"
   ]
  },
  {
   "cell_type": "code",
   "execution_count": 2,
   "metadata": {},
   "outputs": [],
   "source": [
    "imo_base_url = \"https://www.imo-official.org/\""
   ]
  },
  {
   "cell_type": "code",
   "execution_count": 8,
   "metadata": {},
   "outputs": [],
   "source": [
    "def connect_to_webpage(year):\n",
    "    r = requests.get(\n",
    "        'http://www.imo-official.org/year_info.aspx?year=' + str(year),\n",
    "        allow_redirects=True)\n",
    "    return str(r.content)"
   ]
  },
  {
   "cell_type": "code",
   "execution_count": 11,
   "metadata": {},
   "outputs": [],
   "source": [
    "def extract_stats_of_webpage(content):\n",
    "    stats = []\n",
    "    index = 0\n",
    "    for _ in range(3):\n",
    "        index += content[index:].find('(score &ge; ')\n",
    "        stats.append(int(content[index + 12: index + 18].split()[0]))\n",
    "        index += 1\n",
    "    gold = stats[0] - 1\n",
    "    silver = stats[1]\n",
    "    bronze = stats[2]\n",
    "    return gold, silver, bronze"
   ]
  },
  {
   "cell_type": "code",
   "execution_count": 12,
   "metadata": {},
   "outputs": [],
   "source": [
    "def fetch_scores_and_medals(year_start, year_end):\n",
    "    years = []\n",
    "    gold_scores = []\n",
    "    silver_scores = []\n",
    "    bronze_scores = []\n",
    "    for year in range(year_start, year_end + 1):\n",
    "        content = connect_to_webpage(year)\n",
    "        years.append(year)\n",
    "        gold, silver, bronze = extract_stats_of_webpage(content)\n",
    "        gold_scores.append(gold)\n",
    "        silver_scores.append(silver)\n",
    "        bronze_scores.append(bronze)\n",
    "    return years, gold_scores, silver_scores, bronze_scores"
   ]
  },
  {
   "cell_type": "code",
   "execution_count": 20,
   "metadata": {},
   "outputs": [],
   "source": [
    "def fetch_and_save(year_start, year_end, path):\n",
    "    years, golds, silvers, bronzes = fetch_scores_and_medals(year_start, year_end)\n",
    "    with open(path, 'w') as f:\n",
    "        for i in range(len(years)):\n",
    "            f.write(','.join(map(str, [years[i], golds[i], silvers[i], bronzes[i]])))\n",
    "            f.write('\\n')"
   ]
  },
  {
   "cell_type": "code",
   "execution_count": 21,
   "metadata": {},
   "outputs": [],
   "source": [
    "fetch_and_save(2017, 2020, 'test.txt')"
   ]
  },
  {
   "cell_type": "markdown",
   "metadata": {},
   "source": [
    "# Plotter"
   ]
  },
  {
   "cell_type": "code",
   "execution_count": 6,
   "metadata": {},
   "outputs": [],
   "source": [
    "import matplotlib.pyplot as plt"
   ]
  },
  {
   "cell_type": "code",
   "execution_count": null,
   "metadata": {},
   "outputs": [],
   "source": [
    "def plot_scores_by_year(scores_by_year):\n",
    "    pass"
   ]
  },
  {
   "cell_type": "code",
   "execution_count": null,
   "metadata": {},
   "outputs": [],
   "source": []
  }
 ],
 "metadata": {
  "kernelspec": {
   "display_name": "Python 3",
   "language": "python",
   "name": "python3"
  },
  "language_info": {
   "codemirror_mode": {
    "name": "ipython",
    "version": 3
   },
   "file_extension": ".py",
   "mimetype": "text/x-python",
   "name": "python",
   "nbconvert_exporter": "python",
   "pygments_lexer": "ipython3",
   "version": "3.9.0"
  }
 },
 "nbformat": 4,
 "nbformat_minor": 4
}
