{
 "cells": [
  {
   "cell_type": "markdown",
   "metadata": {},
   "source": [
    "# Crawler"
   ]
  },
  {
   "cell_type": "code",
   "execution_count": 3,
   "metadata": {},
   "outputs": [],
   "source": [
    "imo_base_url = \"https://www.imo-official.org/\""
   ]
  },
  {
   "cell_type": "code",
   "execution_count": 4,
   "metadata": {},
   "outputs": [],
   "source": [
    "def connect_to_webpage(url):\n",
    "    pass"
   ]
  },
  {
   "cell_type": "code",
   "execution_count": 5,
   "metadata": {},
   "outputs": [],
   "source": [
    "def fetch_scores_and_medals(url):\n",
    "    pass"
   ]
  },
  {
   "cell_type": "code",
   "execution_count": null,
   "metadata": {},
   "outputs": [],
   "source": []
  },
  {
   "cell_type": "markdown",
   "metadata": {},
   "source": [
    "# Plotter"
   ]
  },
  {
   "cell_type": "code",
   "execution_count": 6,
   "metadata": {},
   "outputs": [],
   "source": [
    "import matplotlib.pyplot as plt"
   ]
  },
  {
   "cell_type": "code",
   "execution_count": 7,
   "metadata": {},
   "outputs": [],
   "source": [
    "temp_scores_by_year = [(2000 + i, [10, 20, 30]) for i in range(10)]"
   ]
  },
  {
   "cell_type": "code",
   "execution_count": 52,
   "metadata": {},
   "outputs": [],
   "source": [
    "# scores_by_year is a list of tuples like (year, [bronze_min, silver_min, gold_min])\n",
    "def plot_scores_by_year(scores_by_year):\n",
    "    years = []\n",
    "    bronze_mins = []\n",
    "    silver_mins = []\n",
    "    gold_mins = []\n",
    "    \n",
    "    minimum_possible = []\n",
    "    maximum_possible = []\n",
    "    \n",
    "    for year, mins_list in scores_by_year:\n",
    "        years.append(year)\n",
    "        \n",
    "        b_min, s_min, g_min = mins_list[0], mins_list[1], mins_list[2]\n",
    "        bronze_mins.append(b_min)\n",
    "        silver_mins.append(s_min)\n",
    "        gold_mins.append(g_min)\n",
    "        \n",
    "        maximum_possible.append(42)\n",
    "        minimum_possible.append(0)\n",
    "        \n",
    "        \n",
    "    colors = dict()\n",
    "    colors['gold'] = (255 / 255, 223 / 255, 0 / 255)\n",
    "    colors['silver'] = (208 / 255, 210 / 255, 209 / 255)\n",
    "    colors['bronze'] = (128 / 255, 74 / 255, 0 / 255)\n",
    "    \n",
    "    fig, ax = plt.subplots()\n",
    "        \n",
    "    plt.title(\"IMO Cutoffs by Year\")\n",
    "    \n",
    "    ax.plot(years, maximum_possible, color='gold')\n",
    "    ax.plot(years, gold_mins, marker='*', color=colors['gold'])\n",
    "    ax.plot(years, silver_mins, marker='D', color=colors['silver'])\n",
    "    ax.plot(years, bronze_mins, marker='o', color=colors['bronze'])\n",
    "    \n",
    "    \n",
    "    ax.fill_between(years, gold_mins, maximum_possible, alpha=0.2, color=colors['gold'])\n",
    "    ax.fill_between(years, silver_mins, gold_mins, alpha=0.2, color=colors['silver'])\n",
    "    ax.fill_between(years, bronze_mins, silver_mins, alpha=0.2, color=colors['bronze'])\n",
    "    \n",
    "    plt.show()\n",
    "    "
   ]
  },
  {
   "cell_type": "code",
   "execution_count": 53,
   "metadata": {},
   "outputs": [
    {
     "data": {
      "image/png": "[encoded data removed]",
      "text/plain": [
       "<Figure size 432x288 with 1 Axes>"
      ]
     },
     "metadata": {
      "needs_background": "light"
     },
     "output_type": "display_data"
    }
   ],
   "source": [
    "plot_scores_by_year(temp_scores_by_year)"
   ]
  },
  {
   "cell_type": "code",
   "execution_count": null,
   "metadata": {},
   "outputs": [],
   "source": []
  }
 ],
 "metadata": {
  "kernelspec": {
   "display_name": "Python 3",
   "language": "python",
   "name": "python3"
  },
  "language_info": {
   "codemirror_mode": {
    "name": "ipython",
    "version": 3
   },
   "file_extension": ".py",
   "mimetype": "text/x-python",
   "name": "python",
   "nbconvert_exporter": "python",
   "pygments_lexer": "ipython3",
   "version": "3.7.6"
  }
 },
 "nbformat": 4,
 "nbformat_minor": 4
}
